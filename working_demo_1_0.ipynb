{
  "nbformat": 4,
  "nbformat_minor": 0,
  "metadata": {
    "colab": {
      "name": "working_demo.1.0.ipynb",
      "provenance": [],
      "authorship_tag": "ABX9TyNvurD01SmVrc2aKxj96/2E",
      "include_colab_link": true
    },
    "kernelspec": {
      "name": "python3",
      "display_name": "Python 3"
    },
    "language_info": {
      "name": "python"
    }
  },
  "cells": [
    {
      "cell_type": "markdown",
      "metadata": {
        "id": "view-in-github",
        "colab_type": "text"
      },
      "source": [
        "<a href=\"https://colab.research.google.com/github/vamsikrishna00466/Django/blob/main/working_demo_1_0.ipynb\" target=\"_parent\"><img src=\"https://colab.research.google.com/assets/colab-badge.svg\" alt=\"Open In Colab\"/></a>"
      ]
    },
    {
      "cell_type": "markdown",
      "source": [
        "Installing Libraries"
      ],
      "metadata": {
        "id": "YnAP5UtfR-Es"
      }
    },
    {
      "cell_type": "code",
      "execution_count": null,
      "metadata": {
        "id": "jO9nw89eRRPE"
      },
      "outputs": [],
      "source": [
        "!pip install django\n",
        "!django-admin startproject portfolio\n",
        "!django-admin startproject ProjectName"
      ]
    },
    {
      "cell_type": "code",
      "source": [
        "ls"
      ],
      "metadata": {
        "colab": {
          "base_uri": "https://localhost:8080/"
        },
        "id": "1bjD37PYRdo5",
        "outputId": "43c6e6df-0b11-4d18-f9b9-736c0bbb4bc4"
      },
      "execution_count": 11,
      "outputs": [
        {
          "output_type": "stream",
          "name": "stdout",
          "text": [
            "\u001b[0m\u001b[01;32mmanage.py\u001b[0m*  \u001b[01;34mportfolio\u001b[0m/  \u001b[01;34mProjectName\u001b[0m/\n"
          ]
        }
      ]
    },
    {
      "cell_type": "code",
      "source": [
        "%cd portfolio/"
      ],
      "metadata": {
        "colab": {
          "base_uri": "https://localhost:8080/"
        },
        "id": "4vQNV9wCRf2g",
        "outputId": "07ad533b-b82b-4a1c-8d3c-7792c24ad28b"
      },
      "execution_count": 5,
      "outputs": [
        {
          "output_type": "stream",
          "name": "stdout",
          "text": [
            "/content/portfolio\n"
          ]
        }
      ]
    },
    {
      "cell_type": "code",
      "source": [
        "ls"
      ],
      "metadata": {
        "colab": {
          "base_uri": "https://localhost:8080/"
        },
        "id": "jSTtejc3Rh5Z",
        "outputId": "261dfe9c-598e-407b-ae0a-5af5ff9774d8"
      },
      "execution_count": 6,
      "outputs": [
        {
          "output_type": "stream",
          "name": "stdout",
          "text": [
            "\u001b[0m\u001b[01;32mmanage.py\u001b[0m*  \u001b[01;34mportfolio\u001b[0m/\n"
          ]
        }
      ]
    },
    {
      "cell_type": "markdown",
      "source": [
        "Use below url for launch website"
      ],
      "metadata": {
        "id": "hfBREhd5SEaw"
      }
    },
    {
      "cell_type": "code",
      "source": [
        "from google.colab.output import eval_js\n",
        "print(eval_js(\"google.colab.kernel.proxyPort(8000)\"))"
      ],
      "metadata": {
        "colab": {
          "base_uri": "https://localhost:8080/",
          "height": 34
        },
        "id": "3p4zRZ2wRiMP",
        "outputId": "74d64aed-43fb-46d6-d287-6e59982640e6"
      },
      "execution_count": 7,
      "outputs": [
        {
          "output_type": "stream",
          "name": "stdout",
          "text": [
            "https://n6fqsrv29-496ff2e9c6d22116-8000-colab.googleusercontent.com/\n"
          ]
        }
      ]
    },
    {
      "cell_type": "code",
      "source": [
        "!python -m http.server 8000\n"
      ],
      "metadata": {
        "colab": {
          "base_uri": "https://localhost:8080/"
        },
        "id": "3X5bnu87Rmfu",
        "outputId": "999e21d2-026b-4c7a-c9cd-3765d44f31ae"
      },
      "execution_count": 8,
      "outputs": [
        {
          "output_type": "stream",
          "name": "stdout",
          "text": [
            "Serving HTTP on 0.0.0.0 port 8000 (http://0.0.0.0:8000/) ...\n",
            "127.0.0.1 - - [12/Feb/2022 18:51:35] \"GET / HTTP/1.1\" 200 -\n",
            "127.0.0.1 - - [12/Feb/2022 18:51:37] code 404, message File not found\n",
            "127.0.0.1 - - [12/Feb/2022 18:51:37] \"GET /favicon.ico HTTP/1.1\" 404 -\n",
            "\n",
            "Keyboard interrupt received, exiting.\n"
          ]
        }
      ]
    }
  ]
}